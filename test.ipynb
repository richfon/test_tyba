{
  "nbformat": 4,
  "nbformat_minor": 0,
  "metadata": {
    "colab": {
      "provenance": [],
      "authorship_tag": "ABX9TyPd9Q8YMTJucw+hcPxYDa/o",
      "include_colab_link": true
    },
    "kernelspec": {
      "name": "python3",
      "display_name": "Python 3"
    },
    "language_info": {
      "name": "python"
    }
  },
  "cells": [
    {
      "cell_type": "markdown",
      "metadata": {
        "id": "view-in-github",
        "colab_type": "text"
      },
      "source": [
        "<a href=\"https://colab.research.google.com/github/richfon/test_tyba/blob/main/test.ipynb\" target=\"_parent\"><img src=\"https://colab.research.google.com/assets/colab-badge.svg\" alt=\"Open In Colab\"/></a>"
      ]
    },
    {
      "cell_type": "markdown",
      "source": [
        "# FastAPI REST API: User Auth, Restaurant Search, Transactions\n",
        "\n",
        "This notebook builds a REST API with FastAPI that supports:\n",
        "- User registration, login, and logout\n",
        "- Protected endpoint to search for nearby restaurants (by city or coordinates) using a public API\n",
        "- Endpoint to list all transactions"
      ],
      "metadata": {
        "id": "LqN0ylQyWm5y"
      }
    },
    {
      "cell_type": "code",
      "source": [
        "# Install required packages\n",
        "!pip install fastapi uvicorn[standard] python-multipart passlib[bcrypt] sqlalchemy httpx"
      ],
      "metadata": {
        "colab": {
          "base_uri": "https://localhost:8080/"
        },
        "id": "v6qJAdFbWjl8",
        "outputId": "33ccf9b4-6752-409e-dcd8-d57a6d9b8c69"
      },
      "execution_count": 24,
      "outputs": [
        {
          "output_type": "stream",
          "name": "stdout",
          "text": [
            "Requirement already satisfied: fastapi in /usr/local/lib/python3.11/dist-packages (0.115.12)\n",
            "Requirement already satisfied: python-multipart in /usr/local/lib/python3.11/dist-packages (0.0.20)\n",
            "Requirement already satisfied: sqlalchemy in /usr/local/lib/python3.11/dist-packages (2.0.41)\n",
            "Requirement already satisfied: httpx in /usr/local/lib/python3.11/dist-packages (0.28.1)\n",
            "Requirement already satisfied: uvicorn[standard] in /usr/local/lib/python3.11/dist-packages (0.34.2)\n",
            "Requirement already satisfied: passlib[bcrypt] in /usr/local/lib/python3.11/dist-packages (1.7.4)\n",
            "Requirement already satisfied: starlette<0.47.0,>=0.40.0 in /usr/local/lib/python3.11/dist-packages (from fastapi) (0.46.2)\n",
            "Requirement already satisfied: pydantic!=1.8,!=1.8.1,!=2.0.0,!=2.0.1,!=2.1.0,<3.0.0,>=1.7.4 in /usr/local/lib/python3.11/dist-packages (from fastapi) (2.11.4)\n",
            "Requirement already satisfied: typing-extensions>=4.8.0 in /usr/local/lib/python3.11/dist-packages (from fastapi) (4.13.2)\n",
            "Requirement already satisfied: click>=7.0 in /usr/local/lib/python3.11/dist-packages (from uvicorn[standard]) (8.2.1)\n",
            "Requirement already satisfied: h11>=0.8 in /usr/local/lib/python3.11/dist-packages (from uvicorn[standard]) (0.16.0)\n",
            "Requirement already satisfied: httptools>=0.6.3 in /usr/local/lib/python3.11/dist-packages (from uvicorn[standard]) (0.6.4)\n",
            "Requirement already satisfied: python-dotenv>=0.13 in /usr/local/lib/python3.11/dist-packages (from uvicorn[standard]) (1.1.0)\n",
            "Requirement already satisfied: pyyaml>=5.1 in /usr/local/lib/python3.11/dist-packages (from uvicorn[standard]) (6.0.2)\n",
            "Requirement already satisfied: uvloop!=0.15.0,!=0.15.1,>=0.14.0 in /usr/local/lib/python3.11/dist-packages (from uvicorn[standard]) (0.21.0)\n",
            "Requirement already satisfied: watchfiles>=0.13 in /usr/local/lib/python3.11/dist-packages (from uvicorn[standard]) (1.0.5)\n",
            "Requirement already satisfied: websockets>=10.4 in /usr/local/lib/python3.11/dist-packages (from uvicorn[standard]) (15.0.1)\n",
            "Requirement already satisfied: bcrypt>=3.1.0 in /usr/local/lib/python3.11/dist-packages (from passlib[bcrypt]) (4.3.0)\n",
            "Requirement already satisfied: greenlet>=1 in /usr/local/lib/python3.11/dist-packages (from sqlalchemy) (3.2.2)\n",
            "Requirement already satisfied: anyio in /usr/local/lib/python3.11/dist-packages (from httpx) (4.9.0)\n",
            "Requirement already satisfied: certifi in /usr/local/lib/python3.11/dist-packages (from httpx) (2025.4.26)\n",
            "Requirement already satisfied: httpcore==1.* in /usr/local/lib/python3.11/dist-packages (from httpx) (1.0.9)\n",
            "Requirement already satisfied: idna in /usr/local/lib/python3.11/dist-packages (from httpx) (3.10)\n",
            "Requirement already satisfied: annotated-types>=0.6.0 in /usr/local/lib/python3.11/dist-packages (from pydantic!=1.8,!=1.8.1,!=2.0.0,!=2.0.1,!=2.1.0,<3.0.0,>=1.7.4->fastapi) (0.7.0)\n",
            "Requirement already satisfied: pydantic-core==2.33.2 in /usr/local/lib/python3.11/dist-packages (from pydantic!=1.8,!=1.8.1,!=2.0.0,!=2.0.1,!=2.1.0,<3.0.0,>=1.7.4->fastapi) (2.33.2)\n",
            "Requirement already satisfied: typing-inspection>=0.4.0 in /usr/local/lib/python3.11/dist-packages (from pydantic!=1.8,!=1.8.1,!=2.0.0,!=2.0.1,!=2.1.0,<3.0.0,>=1.7.4->fastapi) (0.4.1)\n",
            "Requirement already satisfied: sniffio>=1.1 in /usr/local/lib/python3.11/dist-packages (from anyio->httpx) (1.3.1)\n"
          ]
        }
      ]
    },
    {
      "cell_type": "code",
      "source": [
        "!pip install python-jose"
      ],
      "metadata": {
        "colab": {
          "base_uri": "https://localhost:8080/"
        },
        "id": "EH-8GDLrYNcw",
        "outputId": "39856125-6eaf-43a1-fe87-31c752d4baed"
      },
      "execution_count": 25,
      "outputs": [
        {
          "output_type": "stream",
          "name": "stdout",
          "text": [
            "Requirement already satisfied: python-jose in /usr/local/lib/python3.11/dist-packages (3.5.0)\n",
            "Requirement already satisfied: ecdsa!=0.15 in /usr/local/lib/python3.11/dist-packages (from python-jose) (0.19.1)\n",
            "Requirement already satisfied: rsa!=4.1.1,!=4.4,<5.0,>=4.0 in /usr/local/lib/python3.11/dist-packages (from python-jose) (4.9.1)\n",
            "Requirement already satisfied: pyasn1>=0.5.0 in /usr/local/lib/python3.11/dist-packages (from python-jose) (0.6.1)\n",
            "Requirement already satisfied: six>=1.9.0 in /usr/local/lib/python3.11/dist-packages (from ecdsa!=0.15->python-jose) (1.17.0)\n"
          ]
        }
      ]
    },
    {
      "cell_type": "code",
      "source": [
        "# Import libraries\n",
        "from fastapi import FastAPI, Depends, HTTPException, status, Request\n",
        "from fastapi.security import OAuth2PasswordBearer, OAuth2PasswordRequestForm\n",
        "from fastapi.middleware.cors import CORSMiddleware\n",
        "from sqlalchemy import create_engine, Column, Integer, String, Float, DateTime, ForeignKey\n",
        "from sqlalchemy.ext.declarative import declarative_base\n",
        "from sqlalchemy.orm import sessionmaker, relationship, Session\n",
        "from passlib.context import CryptContext\n",
        "from jose import JWTError, jwt\n",
        "from datetime import datetime, timedelta\n",
        "import httpx"
      ],
      "metadata": {
        "id": "oFc5JjP5W50M"
      },
      "execution_count": 26,
      "outputs": []
    },
    {
      "cell_type": "markdown",
      "source": [
        "### Database Setup\n",
        "\n",
        "This cell configures the SQLite database using SQLAlchemy, sets up the engine, session, and base class for models."
      ],
      "metadata": {
        "id": "-wF28aaDeDDG"
      }
    },
    {
      "cell_type": "code",
      "source": [
        "# Database setup (SQLite for simplicity)\n",
        "DATABASE_URL = \"sqlite:///./test.db\"\n",
        "engine = create_engine(DATABASE_URL, connect_args={\"check_same_thread\": False})\n",
        "SessionLocal = sessionmaker(autocommit=False, autoflush=False, bind=engine)\n",
        "Base = declarative_base()"
      ],
      "metadata": {
        "colab": {
          "base_uri": "https://localhost:8080/"
        },
        "id": "9FjDL6ySW5xU",
        "outputId": "fe9aa6f8-e139-4d2b-b30f-5ef48d8ca6e1"
      },
      "execution_count": 27,
      "outputs": [
        {
          "output_type": "stream",
          "name": "stderr",
          "text": [
            "<ipython-input-27-d2ddd6559803>:5: MovedIn20Warning: The ``declarative_base()`` function is now available as sqlalchemy.orm.declarative_base(). (deprecated since: 2.0) (Background on SQLAlchemy 2.0 at: https://sqlalche.me/e/b8d9)\n",
            "  Base = declarative_base()\n"
          ]
        }
      ]
    },
    {
      "cell_type": "markdown",
      "source": [
        "### Define Database Models\n",
        "\n",
        "This cell defines the `User` and `Transaction` models for storing user credentials and transaction logs in the database."
      ],
      "metadata": {
        "id": "Ac8KfoV7eGJJ"
      }
    },
    {
      "cell_type": "code",
      "source": [
        "# Models\n",
        "class User(Base):\n",
        "    __tablename__ = \"users\"\n",
        "    id = Column(Integer, primary_key=True, index=True)\n",
        "    username = Column(String, unique=True, index=True)\n",
        "    hashed_password = Column(String)\n",
        "\n",
        "class Transaction(Base):\n",
        "    __tablename__ = \"transactions\"\n",
        "    id = Column(Integer, primary_key=True, index=True)\n",
        "    user_id = Column(Integer, ForeignKey(\"users.id\"))\n",
        "    query = Column(String)\n",
        "    timestamp = Column(DateTime, default=datetime.utcnow)\n",
        "    user = relationship(\"User\")"
      ],
      "metadata": {
        "id": "OgRZCvSNXTh8"
      },
      "execution_count": 28,
      "outputs": []
    },
    {
      "cell_type": "markdown",
      "source": [
        "### Create Database Tables\n",
        "\n",
        "This cell creates the tables in the SQLite database based on the defined models."
      ],
      "metadata": {
        "id": "qEot8ljKh38D"
      }
    },
    {
      "cell_type": "code",
      "source": [
        "# Create tables\n",
        "Base.metadata.create_all(bind=engine)"
      ],
      "metadata": {
        "id": "N8Q3gURbXW9Z"
      },
      "execution_count": 29,
      "outputs": []
    },
    {
      "cell_type": "markdown",
      "source": [
        "### Authentication and Utility Functions\n",
        "\n",
        "This cell sets up password hashing, JWT token creation, and helper functions for user authentication and retrieval."
      ],
      "metadata": {
        "id": "Jo7BuZdYi9eq"
      }
    },
    {
      "cell_type": "code",
      "source": [
        "# Auth and utility functions\n",
        "SECRET_KEY = \"your-secret-key\"\n",
        "ALGORITHM = \"HS256\"\n",
        "ACCESS_TOKEN_EXPIRE_MINUTES = 30\n",
        "\n",
        "pwd_context = CryptContext(schemes=[\"bcrypt\"], deprecated=\"auto\")\n",
        "oauth2_scheme = OAuth2PasswordBearer(tokenUrl=\"token\")\n",
        "\n",
        "def get_db():\n",
        "    db = SessionLocal()\n",
        "    try:\n",
        "        yield db\n",
        "    finally:\n",
        "        db.close()\n",
        "\n",
        "def verify_password(plain_password, hashed_password):\n",
        "    return pwd_context.verify(plain_password, hashed_password)\n",
        "\n",
        "def get_password_hash(password):\n",
        "    return pwd_context.hash(password)\n",
        "\n",
        "def create_access_token(data: dict, expires_delta: timedelta = None):\n",
        "    to_encode = data.copy()\n",
        "    expire = datetime.utcnow() + (expires_delta or timedelta(minutes=15))\n",
        "    to_encode.update({\"exp\": expire})\n",
        "    return jwt.encode(to_encode, SECRET_KEY, algorithm=ALGORITHM)\n",
        "\n",
        "def get_user(db, username: str):\n",
        "    return db.query(User).filter(User.username == username).first()\n",
        "\n",
        "def authenticate_user(db, username: str, password: str):\n",
        "    user = get_user(db, username)\n",
        "    if not user or not verify_password(password, user.hashed_password):\n",
        "        return False\n",
        "    return user\n",
        "\n",
        "def get_current_user(db: Session = Depends(get_db), token: str = Depends(oauth2_scheme)):\n",
        "    credentials_exception = HTTPException(\n",
        "        status_code=status.HTTP_401_UNAUTHORIZED,\n",
        "        detail=\"Could not validate credentials\",\n",
        "        headers={\"WWW-Authenticate\": \"Bearer\"},\n",
        "    )\n",
        "    try:\n",
        "        payload = jwt.decode(token, SECRET_KEY, algorithms=[ALGORITHM])\n",
        "        username: str = payload.get(\"sub\")\n",
        "        if username is None:\n",
        "            raise credentials_exception\n",
        "    except JWTError:\n",
        "        raise credentials_exception\n",
        "    user = get_user(db, username)\n",
        "    if user is None:\n",
        "        raise credentials_exception\n",
        "    return user"
      ],
      "metadata": {
        "id": "PAv1INuWXZ32"
      },
      "execution_count": 30,
      "outputs": []
    },
    {
      "cell_type": "markdown",
      "source": [
        "### FastAPI App Setup\n",
        "\n",
        "This cell initializes the FastAPI app and configures CORS middleware to allow cross-origin requests."
      ],
      "metadata": {
        "id": "FP3ccoKHtugw"
      }
    },
    {
      "cell_type": "markdown",
      "source": [],
      "metadata": {
        "id": "Txb74OsEtuam"
      }
    },
    {
      "cell_type": "code",
      "source": [
        "# FastAPI app setup\n",
        "app = FastAPI()\n",
        "app.add_middleware(\n",
        "    CORSMiddleware,\n",
        "    allow_origins=[\"*\"],\n",
        "    allow_credentials=True,\n",
        "    allow_methods=[\"*\"],\n",
        "    allow_headers=[\"*\"],\n",
        ")"
      ],
      "metadata": {
        "id": "SFE9xUTbXZ1d"
      },
      "execution_count": 31,
      "outputs": []
    },
    {
      "cell_type": "code",
      "source": [
        "# User registration endpoint\n",
        "@app.post(\"/register\")\n",
        "def register(form_data: OAuth2PasswordRequestForm = Depends(), db: Session = Depends(get_db)):\n",
        "    user = get_user(db, form_data.username)\n",
        "    if user:\n",
        "        raise HTTPException(status_code=400, detail=\"Username already registered\")\n",
        "    hashed_password = get_password_hash(form_data.password)\n",
        "    new_user = User(username=form_data.username, hashed_password=hashed_password)\n",
        "    db.add(new_user)\n",
        "    db.commit()\n",
        "    db.refresh(new_user)\n",
        "    return {\"msg\": \"User registered successfully\"}"
      ],
      "metadata": {
        "id": "J85pFOGhXeMG"
      },
      "execution_count": 32,
      "outputs": []
    },
    {
      "cell_type": "code",
      "source": [
        "# User login endpoint\n",
        "@app.post(\"/token\")\n",
        "def login(form_data: OAuth2PasswordRequestForm = Depends(), db: Session = Depends(get_db)):\n",
        "    user = authenticate_user(db, form_data.username, form_data.password)\n",
        "    if not user:\n",
        "        raise HTTPException(status_code=400, detail=\"Incorrect username or password\")\n",
        "    access_token = create_access_token(data={\"sub\": user.username}, expires_delta=timedelta(minutes=ACCESS_TOKEN_EXPIRE_MINUTES))\n",
        "    return {\"access_token\": access_token, \"token_type\": \"bearer\"}"
      ],
      "metadata": {
        "id": "85tFiSl9XjQq"
      },
      "execution_count": 33,
      "outputs": []
    },
    {
      "cell_type": "code",
      "source": [
        "# User logout endpoint (stateless JWT, so just client-side token removal)\n",
        "@app.post(\"/logout\")\n",
        "def logout():\n",
        "    return {\"msg\": \"Logout successful. Remove token on client side.\"}"
      ],
      "metadata": {
        "id": "kg-XAoJrXlrE"
      },
      "execution_count": 34,
      "outputs": []
    },
    {
      "cell_type": "markdown",
      "source": [
        "### Protected Restaurant Search Endpoint\n",
        "\n",
        "This cell implements the `/restaurants` endpoint, which allows authenticated users to search for nearby restaurants by city or coordinates using public APIs."
      ],
      "metadata": {
        "id": "FHxf3WMxtzFK"
      }
    },
    {
      "cell_type": "code",
      "source": [
        "# Protected endpoint: Get nearby restaurants by city or coordinates\n",
        "@app.get(\"/restaurants\")\n",
        "async def get_restaurants(\n",
        "    city: str = None,\n",
        "    lat: float = None,\n",
        "    lon: float = None,\n",
        "    current_user: User = Depends(get_current_user),\n",
        "    db: Session = Depends(get_db)\n",
        "):\n",
        "    if city:\n",
        "        # Use Nominatim to get coordinates from city name\n",
        "        async with httpx.AsyncClient() as client:\n",
        "            resp = await client.get(f\"https://nominatim.openstreetmap.org/search\", params={\"q\": city, \"format\": \"json\"})\n",
        "            data = resp.json()\n",
        "            if not data:\n",
        "                raise HTTPException(status_code=404, detail=\"City not found\")\n",
        "            lat, lon = float(data[0][\"lat\"]), float(data[0][\"lon\"])\n",
        "    if lat is None or lon is None:\n",
        "        raise HTTPException(status_code=400, detail=\"Provide city or coordinates\")\n",
        "    # Use OpenStreetMap Overpass API to find restaurants\n",
        "    overpass_url = \"http://overpass-api.de/api/interpreter\"\n",
        "    query = f\"\"\"\n",
        "    [out:json];\n",
        "    node\n",
        "      [amenity=restaurant]\n",
        "      (around:3000,{lat},{lon});\n",
        "    out;\n",
        "    \"\"\"\n",
        "    async with httpx.AsyncClient() as client:\n",
        "        resp = await client.post(overpass_url, data=query)\n",
        "        restaurants = resp.json().get(\"elements\", [])\n",
        "    # Log transaction\n",
        "    db.add(Transaction(user_id=current_user.id, query=f\"{lat},{lon}\"))\n",
        "    db.commit()\n",
        "    return [{\"name\": r.get(\"tags\", {}).get(\"name\", \"Unknown\"), \"lat\": r[\"lat\"], \"lon\": r[\"lon\"]} for r in restaurants]"
      ],
      "metadata": {
        "id": "bl1Juh81XogU"
      },
      "execution_count": 35,
      "outputs": []
    },
    {
      "cell_type": "code",
      "source": [
        "# Endpoint to list all transactions\n",
        "@app.get(\"/transactions\")\n",
        "def list_transactions(current_user: User = Depends(get_current_user), db: Session = Depends(get_db)):\n",
        "    txs = db.query(Transaction).filter(Transaction.user_id == current_user.id).all()\n",
        "    return [{\"id\": t.id, \"query\": t.query, \"timestamp\": t.timestamp.isoformat()} for t in txs]"
      ],
      "metadata": {
        "id": "e6rI59CEXq1y"
      },
      "execution_count": 36,
      "outputs": []
    },
    {
      "cell_type": "markdown",
      "source": [
        "### Run the FastAPI App\n",
        "\n",
        "This cell provides the code to run the FastAPI app locally using Uvicorn."
      ],
      "metadata": {
        "id": "ylLU0rIrt4Zb"
      }
    },
    {
      "cell_type": "code",
      "source": [
        "# Run the FastAPI app (for local testing)\n",
        "# In Colab, use: !uvicorn filename:app --reload --port 8000\n",
        "if __name__ == \"__main__\":\n",
        "    import uvicorn\n",
        "    uvicorn.run(\"main:app\", host=\"0.0.0.0\", port=8000, reload=True)"
      ],
      "metadata": {
        "colab": {
          "base_uri": "https://localhost:8080/"
        },
        "id": "nZ7tJjwtXtOP",
        "outputId": "8b97db6e-5c7e-4ac5-e96e-37f6d5d3da06"
      },
      "execution_count": null,
      "outputs": [
        {
          "output_type": "stream",
          "name": "stderr",
          "text": [
            "INFO:     Will watch for changes in these directories: ['/content']\n",
            "INFO:     Uvicorn running on http://0.0.0.0:8000 (Press CTRL+C to quit)\n",
            "INFO:     Started reloader process [837] using WatchFiles\n"
          ]
        }
      ]
    },
    {
      "cell_type": "markdown",
      "source": [
        "guide: https://stackoverflow.com/questions/60819376/fastapi-throws-an-error-error-loading-asgi-app-could-not-import-module-api"
      ],
      "metadata": {
        "id": "_uXc0cHxuHdC"
      }
    },
    {
      "cell_type": "code",
      "source": [
        "!uvicorn filename:app --reload --port 8000"
      ],
      "metadata": {
        "colab": {
          "base_uri": "https://localhost:8080/"
        },
        "id": "O_ODvX88aBq5",
        "outputId": "2fa30f6e-b012-4b2f-cd73-654ad98c24b7"
      },
      "execution_count": 23,
      "outputs": [
        {
          "output_type": "stream",
          "name": "stdout",
          "text": [
            "\u001b[32mINFO\u001b[0m:     Will watch for changes in these directories: ['/content']\n",
            "\u001b[32mINFO\u001b[0m:     Uvicorn running on \u001b[1mhttp://127.0.0.1:8000\u001b[0m (Press CTRL+C to quit)\n",
            "\u001b[32mINFO\u001b[0m:     Started reloader process [\u001b[36m\u001b[1m25441\u001b[0m] using \u001b[36m\u001b[1mWatchFiles\u001b[0m\n",
            "\u001b[31mERROR\u001b[0m:    Error loading ASGI app. Could not import module \"filename\".\n",
            "\u001b[32mINFO\u001b[0m:     Stopping reloader process [\u001b[36m\u001b[1m25441\u001b[0m]\n"
          ]
        }
      ]
    }
  ]
}